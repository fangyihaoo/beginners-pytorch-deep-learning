{
  "nbformat": 4,
  "nbformat_minor": 0,
  "metadata": {
    "colab": {
      "name": "pytorch_book_ian.ipynb",
      "provenance": [],
      "collapsed_sections": [],
      "mount_file_id": "18-nOLw0u6jOaUr71ODBRmeSt_-IgNWaY",
      "authorship_tag": "ABX9TyMbEr9V2WSZ8f4CUJoKi9y5",
      "include_colab_link": true
    },
    "kernelspec": {
      "name": "python3",
      "display_name": "Python 3"
    },
    "accelerator": "GPU"
  },
  "cells": [
    {
      "cell_type": "markdown",
      "metadata": {
        "id": "view-in-github",
        "colab_type": "text"
      },
      "source": [
        "<a href=\"https://colab.research.google.com/github/fangyihaoo/beginners-pytorch-deep-learning/blob/master/pytorch_book_ian.ipynb\" target=\"_parent\"><img src=\"https://colab.research.google.com/assets/colab-badge.svg\" alt=\"Open In Colab\"/></a>"
      ]
    },
    {
      "cell_type": "code",
      "metadata": {
        "id": "g5wJzTg2F9mP",
        "outputId": "c078194a-0f77-4088-fe3c-1a96c0ac5f88",
        "colab": {
          "base_uri": "https://localhost:8080/"
        }
      },
      "source": [
        "!git clone https://github.com/fangyihaoo/beginners-pytorch-deep-learning.git\n",
        "!pip3 install -r /content/beginners-pytorch-deep-learning/requirements.txt"
      ],
      "execution_count": 6,
      "outputs": [
        {
          "output_type": "stream",
          "text": [
            "Cloning into 'beginners-pytorch-deep-learning'...\n",
            "remote: Enumerating objects: 169, done.\u001b[K\n",
            "remote: Counting objects: 100% (169/169), done.\u001b[K\n",
            "remote: Compressing objects: 100% (123/123), done.\u001b[K\n",
            "remote: Total 353 (delta 85), reused 102 (delta 38), pack-reused 184\u001b[K\n",
            "Receiving objects: 100% (353/353), 1.83 MiB | 25.99 MiB/s, done.\n",
            "Resolving deltas: 100% (165/165), done.\n"
          ],
          "name": "stdout"
        }
      ]
    },
    {
      "cell_type": "code",
      "metadata": {
        "id": "cPVVYXHxTNuf",
        "outputId": "c249fee0-3158-4464-c0d4-4d97d054c56e",
        "colab": {
          "base_uri": "https://localhost:8080/"
        }
      },
      "source": [
        "import time\n",
        "time.sleep(5)\n",
        "print(time.ctime())"
      ],
      "execution_count": 3,
      "outputs": [
        {
          "output_type": "stream",
          "text": [
            "Wed Oct 28 22:22:48 2020\n"
          ],
          "name": "stdout"
        }
      ]
    }
  ]
}